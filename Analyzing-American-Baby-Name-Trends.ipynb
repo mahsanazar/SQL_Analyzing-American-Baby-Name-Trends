{
 "cells": [
  {
   "cell_type": "code",
   "execution_count": null,
   "metadata": {},
   "outputs": [],
   "source": [
    "##Select first names and the total babies with that first_name\n",
    "##Group by first_name and filter for those names that appear in all 101 years\n",
    "## Order by the total number of babies with that first_name, descending"
   ]
  },
  {
   "cell_type": "code",
   "execution_count": null,
   "metadata": {},
   "outputs": [],
   "source": [
    "%%sql\n",
    "SELECT first_name, SUM(num)\n",
    "FROM baby_names\n",
    "GROUP BY first_name\n",
    "HAVING COUNT(year) = 101\n",
    "ORDER BY SUM(num) DESC;"
   ]
  },
  {
   "cell_type": "markdown",
   "metadata": {},
   "source": [
    "## Classify each name's popularity according to the number of years that the name appears in the dataset."
   ]
  },
  {
   "cell_type": "code",
   "execution_count": null,
   "metadata": {},
   "outputs": [],
   "source": [
    "%%sql\n",
    "SELECT first_name, SUM(num),\n",
    "    CASE WHEN COUNT(year) > 80 THEN 'Classic'\n",
    "        WHEN COUNT(year) > 50 THEN 'Semi-classic'\n",
    "        WHEN COUNT(year) > 20 THEN 'Semi-trendy'\n",
    "        ELSE 'Trendy' END AS popularity_type\n",
    "FROM baby_names\n",
    "GROUP BY first_name\n",
    "ORDER BY first_name;"
   ]
  },
  {
   "cell_type": "markdown",
   "metadata": {},
   "source": [
    "## Top-ranked female names since 1920"
   ]
  },
  {
   "cell_type": "code",
   "execution_count": null,
   "metadata": {},
   "outputs": [],
   "source": [
    "%%sql\n",
    "SELECT first_name, SUM(num), RANK() OVER( ORDER BY SUM(num) DESC) AS  name_rank\n",
    "FROM  baby_names\n",
    "WHERE sex= 'F'\n",
    "GROUP BY first_name\n",
    "LIMIT 10;"
   ]
  },
  {
   "cell_type": "markdown",
   "metadata": {},
   "source": [
    "## Picking a baby name\n",
    "Perhaps a friend has heard of our work analyzing baby names and would like help choosing a name for her baby, a girl. She doesn't like any of the top-ranked names we found in the previous task.\n",
    "\n",
    "She's set on a traditionally female name ending in the letter 'a' since she's heard that vowels in baby names are trendy. She's also looking for a name that has been popular in the years since 2015.\n",
    "\n",
    "Let's see what we can do to find some options for this friend!"
   ]
  },
  {
   "cell_type": "code",
   "execution_count": null,
   "metadata": {},
   "outputs": [],
   "source": [
    "%%sql\n",
    "SELECT first_name\n",
    "FROM baby_names\n",
    "WHERE sex ='F' AND first_name LIKE '%a' AND year> 2015\n",
    "GROUP BY first_name\n",
    "ORDER BY SUM(num) DESC;"
   ]
  },
  {
   "cell_type": "markdown",
   "metadata": {},
   "source": [
    "## Based on the results in the previous task, we can see that Olivia is the most popular female name ending in 'A' since 2015. When did the name Olivia become so popular?"
   ]
  },
  {
   "cell_type": "code",
   "execution_count": null,
   "metadata": {},
   "outputs": [],
   "source": [
    "%%sql\n",
    "SELECT first_name,year, SUM(num) OVER (ORDER BY year) AS cumulative_olivias\n",
    "FROM baby_names\n",
    "WHERE first_name='Olivia' \n",
    "ORDER BY  year DESC;"
   ]
  },
  {
   "cell_type": "markdown",
   "metadata": {},
   "source": [
    "## Write a query that selects the year and the maximum num of babies given any male name in that year.\n"
   ]
  },
  {
   "cell_type": "code",
   "execution_count": null,
   "metadata": {},
   "outputs": [],
   "source": [
    "%%sql\n",
    "SELECT year,MAX(num) AS max_num \n",
    "FROM baby_names\n",
    "WHERE sex= 'M'\n",
    "GROUP BY year\n",
    "ORDER BY MAX(num) DESC;"
   ]
  },
  {
   "cell_type": "markdown",
   "metadata": {},
   "source": [
    "## In the previous task, we found the maximum number of babies given any one male name in each year. Incredibly, the most popular name each year varied from being given to less than 20,000 babies to being given to more than 90,000! we find out what that top male name is for each year in our dataset."
   ]
  },
  {
   "cell_type": "code",
   "execution_count": null,
   "metadata": {},
   "outputs": [],
   "source": [
    "%%sql\n",
    "SELECT first_name, SUM(num) AS total\n",
    "FROM baby_names\n",
    "WHERE sex = 'M'\n",
    "GROUP BY first_name\n",
    "ORDER BY SUM(num) DESC;"
   ]
  }
 ],
 "metadata": {
  "language_info": {
   "name": "python"
  }
 },
 "nbformat": 4,
 "nbformat_minor": 2
}
